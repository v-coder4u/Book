{
  "nbformat": 4,
  "nbformat_minor": 0,
  "metadata": {
    "colab": {
      "provenance": [],
      "toc_visible": true,
      "authorship_tag": "ABX9TyMDDdx0GCbwc4jO3r65NoWV",
      "include_colab_link": true
    },
    "kernelspec": {
      "name": "python3",
      "display_name": "Python 3"
    },
    "language_info": {
      "name": "python"
    }
  },
  "cells": [
    {
      "cell_type": "markdown",
      "metadata": {
        "id": "view-in-github",
        "colab_type": "text"
      },
      "source": [
        "<a href=\"https://colab.research.google.com/github/v-coder4u/Book/blob/master/basics.ipynb\" target=\"_parent\"><img src=\"https://colab.research.google.com/assets/colab-badge.svg\" alt=\"Open In Colab\"/></a>"
      ]
    },
    {
      "cell_type": "code",
      "execution_count": 2,
      "metadata": {
        "id": "ELaj09a1PzV7"
      },
      "outputs": [],
      "source": [
        "a = 'Vaibhav Varshney'"
      ]
    },
    {
      "cell_type": "code",
      "source": [
        "a"
      ],
      "metadata": {
        "colab": {
          "base_uri": "https://localhost:8080/",
          "height": 35
        },
        "id": "mNgM5J-CQOuS",
        "outputId": "fe80ad95-4213-4253-9730-6983b851731b"
      },
      "execution_count": 3,
      "outputs": [
        {
          "output_type": "execute_result",
          "data": {
            "text/plain": [
              "'Vaibhav Varshney'"
            ],
            "application/vnd.google.colaboratory.intrinsic+json": {
              "type": "string"
            }
          },
          "metadata": {},
          "execution_count": 3
        }
      ]
    },
    {
      "cell_type": "code",
      "source": [
        "name = input(\"Please Enter your name: \")\n",
        "print('welcome' , name)\n",
        "type(name)"
      ],
      "metadata": {
        "colab": {
          "base_uri": "https://localhost:8080/"
        },
        "id": "tJzh_Pv_QR5V",
        "outputId": "aae17291-095d-4da6-b55e-1436311d0a71"
      },
      "execution_count": 5,
      "outputs": [
        {
          "output_type": "stream",
          "name": "stdout",
          "text": [
            "Please Enter your name: Vaibhav\n",
            "welcome Vaibhav\n"
          ]
        },
        {
          "output_type": "execute_result",
          "data": {
            "text/plain": [
              "str"
            ]
          },
          "metadata": {},
          "execution_count": 5
        }
      ]
    },
    {
      "cell_type": "code",
      "source": [
        "a = True\n",
        "b = 'True'\n",
        "print(type(a))\n",
        "print(type(b))"
      ],
      "metadata": {
        "colab": {
          "base_uri": "https://localhost:8080/"
        },
        "id": "IgHQHhqaQ7Bp",
        "outputId": "df8609a8-7823-4458-e5ad-47d9dc6847bf"
      },
      "execution_count": 6,
      "outputs": [
        {
          "output_type": "stream",
          "name": "stdout",
          "text": [
            "<class 'bool'>\n",
            "<class 'str'>\n"
          ]
        }
      ]
    },
    {
      "cell_type": "code",
      "source": [
        "accuracy = 99.9\n",
        "print(accuracy)\n",
        "print(type(accuracy))\n",
        "accuracyInt = int(accuracy)\n",
        "print(accuracyInt)\n",
        "print(type(accuracyInt))"
      ],
      "metadata": {
        "colab": {
          "base_uri": "https://localhost:8080/"
        },
        "id": "23kpYPLdRRsr",
        "outputId": "f4378c8f-6be5-4769-eb46-4f54d7b6e4b0"
      },
      "execution_count": 9,
      "outputs": [
        {
          "output_type": "stream",
          "name": "stdout",
          "text": [
            "99.9\n",
            "<class 'float'>\n",
            "99\n",
            "<class 'int'>\n"
          ]
        }
      ]
    },
    {
      "cell_type": "code",
      "source": [
        "strNum = \"2.0\"\n",
        "print(strNum)\n",
        "num = int(float(strNum))\n",
        "print(num)\n",
        "print(type(num))"
      ],
      "metadata": {
        "colab": {
          "base_uri": "https://localhost:8080/"
        },
        "id": "8xfDr0NaShY6",
        "outputId": "c2fbb681-d26d-4fe1-a218-e1682082376f"
      },
      "execution_count": 10,
      "outputs": [
        {
          "output_type": "stream",
          "name": "stdout",
          "text": [
            "2.0\n",
            "2\n",
            "<class 'int'>\n"
          ]
        }
      ]
    },
    {
      "cell_type": "code",
      "source": [
        "str = \"Vaibhav Varshney\"\n",
        "str[2]\n",
        "# can we assign different char\n",
        "str[1] = \"a\"  # string object are immutable"
      ],
      "metadata": {
        "colab": {
          "base_uri": "https://localhost:8080/",
          "height": 180
        },
        "id": "SsLVa5QUTBMb",
        "outputId": "94ae064c-8644-4c34-d68e-1328863ab1e4"
      },
      "execution_count": 13,
      "outputs": [
        {
          "output_type": "error",
          "ename": "TypeError",
          "evalue": "'str' object does not support item assignment",
          "traceback": [
            "\u001b[0;31m---------------------------------------------------------------------------\u001b[0m",
            "\u001b[0;31mTypeError\u001b[0m                                 Traceback (most recent call last)",
            "\u001b[0;32m/tmp/ipython-input-2988754895.py\u001b[0m in \u001b[0;36m<cell line: 0>\u001b[0;34m()\u001b[0m\n\u001b[1;32m      2\u001b[0m \u001b[0mstr\u001b[0m\u001b[0;34m[\u001b[0m\u001b[0;36m2\u001b[0m\u001b[0;34m]\u001b[0m\u001b[0;34m\u001b[0m\u001b[0;34m\u001b[0m\u001b[0m\n\u001b[1;32m      3\u001b[0m \u001b[0;31m# can we assign different char\u001b[0m\u001b[0;34m\u001b[0m\u001b[0;34m\u001b[0m\u001b[0m\n\u001b[0;32m----> 4\u001b[0;31m \u001b[0mstr\u001b[0m\u001b[0;34m[\u001b[0m\u001b[0;36m1\u001b[0m\u001b[0;34m]\u001b[0m \u001b[0;34m=\u001b[0m \u001b[0;34m\"a\"\u001b[0m\u001b[0;34m\u001b[0m\u001b[0;34m\u001b[0m\u001b[0m\n\u001b[0m",
            "\u001b[0;31mTypeError\u001b[0m: 'str' object does not support item assignment"
          ]
        }
      ]
    },
    {
      "cell_type": "code",
      "source": [
        "str1 = 'hello'\n",
        "# change it to yellow by hook or by crook\n",
        "str1 = 'yello'\n",
        "print(str1)"
      ],
      "metadata": {
        "colab": {
          "base_uri": "https://localhost:8080/"
        },
        "id": "-CjpJGhTT6HG",
        "outputId": "26e0bdf1-d323-4e8c-d4c6-910d76c525d7"
      },
      "execution_count": 16,
      "outputs": [
        {
          "output_type": "stream",
          "name": "stdout",
          "text": [
            "yello\n"
          ]
        }
      ]
    },
    {
      "cell_type": "code",
      "source": [
        "a = 10\n",
        "b = 2\n",
        "print(a + b)\n",
        "print(a - b)\n",
        "print(a / b)\n",
        "print(a * b)\n",
        "print(a // b) #floor division\n",
        "print(a % b)\n",
        "print(a ** b)"
      ],
      "metadata": {
        "colab": {
          "base_uri": "https://localhost:8080/"
        },
        "id": "kGO7DOcbUV49",
        "outputId": "a075a77e-cc52-4ce4-9a1c-5782f9cad5b6"
      },
      "execution_count": 22,
      "outputs": [
        {
          "output_type": "stream",
          "name": "stdout",
          "text": [
            "12\n",
            "8\n",
            "5.0\n",
            "20\n",
            "5\n",
            "0\n",
            "100\n"
          ]
        }
      ]
    },
    {
      "cell_type": "code",
      "source": [
        "#BODMAS\n",
        "print((4 * 5) - 9 + 6 / 7)\n",
        "print(20 - 9 + 6 / 7)\n",
        "print(20 - 9 + 0.8)\n",
        "print(11 + 0.8)\n"
      ],
      "metadata": {
        "colab": {
          "base_uri": "https://localhost:8080/"
        },
        "id": "j_nNExIMVTcE",
        "outputId": "f01776d6-a14d-4ac2-faa3-63704c837119"
      },
      "execution_count": 25,
      "outputs": [
        {
          "output_type": "stream",
          "name": "stdout",
          "text": [
            "11.857142857142858\n",
            "11.857142857142858\n",
            "11.8\n",
            "11.8\n"
          ]
        }
      ]
    },
    {
      "cell_type": "code",
      "source": [
        "a = 10\n",
        "b = 12\n",
        "\n",
        "print(sum_function(a, b))\n",
        "\n",
        "def sum_function(a, b):\n",
        "  c = a + b\n",
        "  return c"
      ],
      "metadata": {
        "colab": {
          "base_uri": "https://localhost:8080/"
        },
        "id": "Ma_9c8thWhyF",
        "outputId": "30d927ac-66c2-4a48-fa45-5a04a4db09da"
      },
      "execution_count": 27,
      "outputs": [
        {
          "output_type": "stream",
          "name": "stdout",
          "text": [
            "22\n"
          ]
        }
      ]
    },
    {
      "cell_type": "markdown",
      "source": [
        "LIST\n"
      ],
      "metadata": {
        "id": "I075CYwQdk7S"
      }
    },
    {
      "cell_type": "code",
      "source": [
        "custInfo = [\"Vaibhav Varshney\", 28, \"Anoopshahr\", 34.8]\n",
        "print(custInfo)\n",
        "print(type(custInfo))\n",
        "print(len(custInfo))\n",
        "\n",
        "custInfo2 = (\"Vaibhav Varshney\", 28, \"Anoopshahr\", 34.8)\n",
        "print(custInfo2)\n",
        "print(type(custInfo2))"
      ],
      "metadata": {
        "colab": {
          "base_uri": "https://localhost:8080/"
        },
        "id": "cVLCB-OTdpL9",
        "outputId": "14ad38a1-84ad-4d78-95fa-9fb2234b59bf"
      },
      "execution_count": 30,
      "outputs": [
        {
          "output_type": "stream",
          "name": "stdout",
          "text": [
            "['Vaibhav Varshney', 28, 'Anoopshahr', 34.8]\n",
            "<class 'list'>\n",
            "4\n",
            "('Vaibhav Varshney', 28, 'Anoopshahr', 34.8)\n",
            "<class 'tuple'>\n"
          ]
        }
      ]
    },
    {
      "cell_type": "code",
      "source": [
        "#Nested list\n",
        "list1 = [\"Delhi\" , [\"ashoknagar\", \"pitampura\"], 10]\n",
        "print(list1)\n",
        "print(len(list1))\n",
        "print(list1[1])\n",
        "print(list1[1][1])\n",
        "print(list1[-2][-2]) # it will start with 1 not 0, it is called slicing"
      ],
      "metadata": {
        "colab": {
          "base_uri": "https://localhost:8080/"
        },
        "id": "Kl9332eQebs0",
        "outputId": "ffb9edbd-e6e5-4b50-ab69-6f69441b908d"
      },
      "execution_count": 39,
      "outputs": [
        {
          "output_type": "stream",
          "name": "stdout",
          "text": [
            "['Delhi', ['ashoknagar', 'pitampura'], 10]\n",
            "3\n",
            "['ashoknagar', 'pitampura']\n",
            "pitampura\n",
            "ashoknagar\n"
          ]
        }
      ]
    },
    {
      "cell_type": "code",
      "source": [
        "#list concate\n",
        "list1 = [1,2,3,4]\n",
        "list2 = [5,6,7,8]\n",
        "newlist = list1 + list2\n",
        "print(newlist)\n",
        "print(newlist + [9,10])"
      ],
      "metadata": {
        "colab": {
          "base_uri": "https://localhost:8080/"
        },
        "id": "aLyzCeeFe80R",
        "outputId": "d9e7c605-4f95-4a68-a922-d9e2dd15c95a"
      },
      "execution_count": 2,
      "outputs": [
        {
          "output_type": "stream",
          "name": "stdout",
          "text": [
            "[1, 2, 3, 4, 5, 6, 7, 8]\n",
            "[1, 2, 3, 4, 5, 6, 7, 8, 9, 10]\n"
          ]
        }
      ]
    },
    {
      "cell_type": "code",
      "source": [
        "# Membership in list\n",
        "\n",
        "list3 = [1,2,3,4]\n",
        "print(1 in list3)\n",
        "print(5 in list3)"
      ],
      "metadata": {
        "colab": {
          "base_uri": "https://localhost:8080/"
        },
        "id": "8CIzXjRFVPhr",
        "outputId": "b076314c-cbe6-418f-9b3c-5c50a66a208c"
      },
      "execution_count": 3,
      "outputs": [
        {
          "output_type": "stream",
          "name": "stdout",
          "text": [
            "True\n",
            "False\n"
          ]
        }
      ]
    },
    {
      "cell_type": "code",
      "source": [
        "# Membership in tuple\n",
        "\n",
        "list3 = (1,2,3,4)\n",
        "print(1 in list3)\n",
        "print(5 in list3)"
      ],
      "metadata": {
        "colab": {
          "base_uri": "https://localhost:8080/"
        },
        "id": "vfX2QoqGVzJV",
        "outputId": "520d8225-5d27-42c5-8d39-5885489dbc1b"
      },
      "execution_count": 4,
      "outputs": [
        {
          "output_type": "stream",
          "name": "stdout",
          "text": [
            "True\n",
            "False\n"
          ]
        }
      ]
    },
    {
      "cell_type": "code",
      "source": [
        "#Mutability\n",
        "list1 = [\"Math\", \"Physics\", \"Chemistry\", \"Biology\"]\n",
        "print(list1[3])\n",
        "print(list1[-1])\n",
        "list1[3] = \"Computer science\"\n",
        "print(list1)"
      ],
      "metadata": {
        "colab": {
          "base_uri": "https://localhost:8080/"
        },
        "id": "OTNAF4fuV7LY",
        "outputId": "8477a813-2dff-4227-d185-d35c079d2d77"
      },
      "execution_count": 8,
      "outputs": [
        {
          "output_type": "stream",
          "name": "stdout",
          "text": [
            "Biology\n",
            "Biology\n",
            "['Math', 'Physics', 'Chemistry', 'Computer science']\n"
          ]
        }
      ]
    },
    {
      "cell_type": "code",
      "source": [
        "#extend() --> it extend the list\n",
        "list1 = [1,2,3,4]\n",
        "list1.extend([5,6])\n",
        "print(list1)\n",
        "\n",
        "#append() --> it will append at the last or nested list\n",
        "list2= [5,6,7,8]\n",
        "list2.append([9,10])\n",
        "print(\"after append size is: \", len(list2))\n",
        "\n",
        "print(list2)"
      ],
      "metadata": {
        "colab": {
          "base_uri": "https://localhost:8080/"
        },
        "id": "0jdmLYCUbZz-",
        "outputId": "f0290fa0-c472-48a0-d852-92afb92f970f"
      },
      "execution_count": 13,
      "outputs": [
        {
          "output_type": "stream",
          "name": "stdout",
          "text": [
            "[1, 2, 3, 4, 5, 6]\n",
            "after append size is:  5\n",
            "[5, 6, 7, 8, [9, 10]]\n"
          ]
        }
      ]
    },
    {
      "cell_type": "code",
      "source": [
        "#del\n",
        "list1 = [1,2,3,4]\n",
        "del list1[2]\n",
        "list1"
      ],
      "metadata": {
        "colab": {
          "base_uri": "https://localhost:8080/"
        },
        "id": "7EYtgmDfccDR",
        "outputId": "c7271c1b-1ae2-478d-ca29-bd17960ebf2a"
      },
      "execution_count": 14,
      "outputs": [
        {
          "output_type": "execute_result",
          "data": {
            "text/plain": [
              "[1, 2, 4]"
            ]
          },
          "metadata": {},
          "execution_count": 14
        }
      ]
    },
    {
      "cell_type": "code",
      "source": [
        "#pop --> by default last but we can delete the object based on index\n",
        "list1 = [11,22,33,44]\n",
        "list1.pop(2)\n",
        "list1"
      ],
      "metadata": {
        "colab": {
          "base_uri": "https://localhost:8080/"
        },
        "id": "yOHnkriucvSO",
        "outputId": "8a9b986b-9ca4-4ef1-a598-5a6218c11f8b"
      },
      "execution_count": 16,
      "outputs": [
        {
          "output_type": "execute_result",
          "data": {
            "text/plain": [
              "[11, 22, 44]"
            ]
          },
          "metadata": {},
          "execution_count": 16
        }
      ]
    },
    {
      "cell_type": "code",
      "source": [
        "#remove a certain value from a list\n",
        "list1 = [11,22,44,55]\n",
        "list1.remove(44)\n",
        "list1"
      ],
      "metadata": {
        "colab": {
          "base_uri": "https://localhost:8080/"
        },
        "id": "cDU2v_-gdI8W",
        "outputId": "64e5bee1-b660-443a-ceac-f74f6f420e48"
      },
      "execution_count": 17,
      "outputs": [
        {
          "output_type": "execute_result",
          "data": {
            "text/plain": [
              "[11, 22, 55]"
            ]
          },
          "metadata": {},
          "execution_count": 17
        }
      ]
    },
    {
      "cell_type": "code",
      "source": [
        "#sorting\n",
        "A = [43,5,6,3,6,8,8,9,4]\n",
        "A.sort()\n",
        "A\n",
        "\n",
        "#reverse sort\n",
        "B = [43,5,6,3,6,8,8,9,4]\n",
        "B.sort(reverse = True)\n",
        "B"
      ],
      "metadata": {
        "colab": {
          "base_uri": "https://localhost:8080/"
        },
        "id": "xzSAn_55dYHh",
        "outputId": "36f4d3b4-1383-481c-f919-29e663591a67"
      },
      "execution_count": 21,
      "outputs": [
        {
          "output_type": "execute_result",
          "data": {
            "text/plain": [
              "[43, 9, 8, 8, 6, 6, 5, 4, 3]"
            ]
          },
          "metadata": {},
          "execution_count": 21
        }
      ]
    },
    {
      "cell_type": "code",
      "source": [
        "#sort vs sorted\n",
        "A = [\"Orange\", \"Mango\", \"Apple\"]\n",
        "B = A.sort() #return void\n",
        "print(A)\n",
        "print(B)\n",
        "\n",
        "\n",
        "C = [\"Orange\", \"Mango\", \"Apple\"]\n",
        "D = sorted(C)\n",
        "print(C)\n",
        "print(D)\n"
      ],
      "metadata": {
        "colab": {
          "base_uri": "https://localhost:8080/"
        },
        "id": "ySlz7hCgdoZw",
        "outputId": "7d0a2156-b48b-4197-fd52-5013de3ba6d8"
      },
      "execution_count": 26,
      "outputs": [
        {
          "output_type": "stream",
          "name": "stdout",
          "text": [
            "['Apple', 'Mango', 'Orange']\n",
            "None\n",
            "['Orange', 'Mango', 'Apple']\n",
            "['Apple', 'Mango', 'Orange']\n"
          ]
        }
      ]
    },
    {
      "cell_type": "code",
      "source": [
        "#shallow copy\n",
        "A = [\"Orange\", \"Mango\", \"Apple\"]\n",
        "B = A\n",
        "print(A)\n",
        "print(B)\n",
        "A.pop()\n",
        "print(A)\n",
        "print(B)"
      ],
      "metadata": {
        "colab": {
          "base_uri": "https://localhost:8080/"
        },
        "id": "QMvGtTQwfvbZ",
        "outputId": "043f1527-5d63-4db3-8a1f-6a50e0e30059"
      },
      "execution_count": 28,
      "outputs": [
        {
          "output_type": "stream",
          "name": "stdout",
          "text": [
            "['Orange', 'Mango', 'Apple']\n",
            "['Orange', 'Mango', 'Apple']\n",
            "['Orange', 'Mango']\n",
            "['Orange', 'Mango']\n"
          ]
        }
      ]
    },
    {
      "cell_type": "code",
      "source": [
        "A = [\"Orange\", \"Mango\", \"Apple\"]\n",
        "B = A[0:3]\n",
        "print(A)\n",
        "print(B)\n",
        "\n",
        "A.pop()\n",
        "\n",
        "print(A)\n",
        "print(B)"
      ],
      "metadata": {
        "colab": {
          "base_uri": "https://localhost:8080/"
        },
        "id": "EDKrSiRAgJ8Q",
        "outputId": "27cdfd7f-d80c-4f73-dbd1-f30863c63622"
      },
      "execution_count": 30,
      "outputs": [
        {
          "output_type": "stream",
          "name": "stdout",
          "text": [
            "['Orange', 'Mango', 'Apple']\n",
            "['Orange', 'Mango', 'Apple']\n",
            "['Orange', 'Mango']\n",
            "['Orange', 'Mango', 'Apple']\n"
          ]
        }
      ]
    },
    {
      "cell_type": "code",
      "source": [
        "#Split string\n",
        "\n",
        "str = \"Vaibhav_Varshney_1997\"\n",
        "list1 = str.split(\"_\")\n",
        "print(list1)"
      ],
      "metadata": {
        "colab": {
          "base_uri": "https://localhost:8080/"
        },
        "id": "b7EAzz1Ngh9C",
        "outputId": "282a6307-402b-44b5-a11e-0ba6afa1a5ca"
      },
      "execution_count": 31,
      "outputs": [
        {
          "output_type": "stream",
          "name": "stdout",
          "text": [
            "['Vaibhav', 'Varshney', '1997']\n"
          ]
        }
      ]
    },
    {
      "cell_type": "markdown",
      "source": [
        "Tuples"
      ],
      "metadata": {
        "id": "ZDI06dOjhGC4"
      }
    },
    {
      "cell_type": "code",
      "source": [
        "t = (\"hello\", 5, 10.5)\n",
        "print(type(t))"
      ],
      "metadata": {
        "colab": {
          "base_uri": "https://localhost:8080/"
        },
        "id": "AQ_MAv3EhIT4",
        "outputId": "242ffca8-aed8-4368-d972-a580f2f21fc7"
      },
      "execution_count": 33,
      "outputs": [
        {
          "output_type": "stream",
          "name": "stdout",
          "text": [
            "<class 'tuple'>\n"
          ]
        }
      ]
    },
    {
      "cell_type": "code",
      "source": [
        "#nested tuple\n",
        "t = (\"hello\", 5, 10.5, [1,2,3,4,5])\n",
        "print(len(t))\n",
        "var = t[3]\n",
        "print(type(var))\n",
        "print(t[3][4])"
      ],
      "metadata": {
        "colab": {
          "base_uri": "https://localhost:8080/"
        },
        "id": "sn_oKgBdlFPk",
        "outputId": "46fc56da-f2f9-4de5-c1e5-e010e161a9e6"
      },
      "execution_count": 38,
      "outputs": [
        {
          "output_type": "stream",
          "name": "stdout",
          "text": [
            "4\n",
            "<class 'list'>\n",
            "5\n"
          ]
        }
      ]
    },
    {
      "cell_type": "code",
      "source": [
        "# various ways to define a tuple\n",
        "\n",
        "t1 = 1,2,3,4,5\n",
        "print(t1)\n",
        "print(type(t1))\n",
        "\n",
        "t2 = 2.3, #single value tuple\n",
        "print(type(t2))\n",
        "\n",
        "t3 = (1)\n",
        "print(type(t3))"
      ],
      "metadata": {
        "colab": {
          "base_uri": "https://localhost:8080/"
        },
        "id": "lfrWr3bnmn4h",
        "outputId": "96941f09-ea60-4d8f-d918-b01da4262cf7"
      },
      "execution_count": 41,
      "outputs": [
        {
          "output_type": "stream",
          "name": "stdout",
          "text": [
            "(1, 2, 3, 4, 5)\n",
            "<class 'tuple'>\n",
            "<class 'tuple'>\n",
            "<class 'int'>\n"
          ]
        }
      ]
    },
    {
      "cell_type": "code",
      "source": [
        "#indexing in tuple\n",
        "t = (\"Anoopshar\", 10, \"Vaibhav\", 100)\n",
        "print(len(t))\n",
        "print(t[2:])\n",
        "print(t[1:3])"
      ],
      "metadata": {
        "colab": {
          "base_uri": "https://localhost:8080/"
        },
        "id": "S4Msw22wnV7D",
        "outputId": "bd475c64-bdb9-4b84-d155-c4fb4d08fc2c"
      },
      "execution_count": 44,
      "outputs": [
        {
          "output_type": "stream",
          "name": "stdout",
          "text": [
            "4\n",
            "('Vaibhav', 100)\n",
            "(10, 'Vaibhav')\n"
          ]
        }
      ]
    },
    {
      "cell_type": "code",
      "source": [
        "#String indexing\n",
        "str = \"Vaibhav Varshney\"\n",
        "print(str[6:])"
      ],
      "metadata": {
        "colab": {
          "base_uri": "https://localhost:8080/"
        },
        "id": "qvqiQY1BnV8R",
        "outputId": "e9392df8-095b-4dce-ea24-87ebc57f66c6"
      },
      "execution_count": 45,
      "outputs": [
        {
          "output_type": "stream",
          "name": "stdout",
          "text": [
            "v Varshney\n"
          ]
        }
      ]
    },
    {
      "cell_type": "code",
      "source": [
        "#Slinging last 2 elements\n",
        "t = (\"Anoopshar\", 10, \"Vaibhav\", 100)\n",
        "print(t[-2:])"
      ],
      "metadata": {
        "colab": {
          "base_uri": "https://localhost:8080/"
        },
        "id": "dEGTjwHhoUjz",
        "outputId": "2b84cef1-a5a1-4f70-c611-780fe3e933dd"
      },
      "execution_count": 46,
      "outputs": [
        {
          "output_type": "stream",
          "name": "stdout",
          "text": [
            "('Vaibhav', 100)\n"
          ]
        }
      ]
    },
    {
      "cell_type": "code",
      "source": [
        "#concatenation tuple\n",
        "t1 = (\"welcome\", \"to\", 'the', 'class')\n",
        "t2 = ('vaibhav', 'varshney')\n",
        "t3 = t1 + t2\n",
        "t4 = t2 + t1\n",
        "print(t3)\n",
        "print(t4)"
      ],
      "metadata": {
        "colab": {
          "base_uri": "https://localhost:8080/"
        },
        "id": "LPZ3Wy07ojCm",
        "outputId": "a0dcb37c-35c2-46e5-eade-d851a9a07d35"
      },
      "execution_count": 49,
      "outputs": [
        {
          "output_type": "stream",
          "name": "stdout",
          "text": [
            "('welcome', 'to', 'the', 'class', 'vaibhav', 'varshney')\n",
            "('vaibhav', 'varshney', 'welcome', 'to', 'the', 'class')\n"
          ]
        }
      ]
    },
    {
      "cell_type": "code",
      "source": [
        "# min max sum\n",
        "l1 = [2,4,5,6,7,2]\n",
        "print(sum(l1))\n",
        "print(min(l1))\n",
        "print(max(l1))\n",
        "t1 = (2,4,5,6,7,2)\n",
        "print(sum(t1))\n",
        "\n"
      ],
      "metadata": {
        "colab": {
          "base_uri": "https://localhost:8080/"
        },
        "id": "dtHDbsywol2S",
        "outputId": "af8fdf6d-530e-4b78-8e06-71ac377e666e"
      },
      "execution_count": 54,
      "outputs": [
        {
          "output_type": "stream",
          "name": "stdout",
          "text": [
            "26\n",
            "2\n",
            "7\n",
            "26\n"
          ]
        }
      ]
    },
    {
      "cell_type": "code",
      "source": [
        "t1 = (2,5,6,7,'vaibhav')\n",
        "print(sum(t1)) #error"
      ],
      "metadata": {
        "colab": {
          "base_uri": "https://localhost:8080/",
          "height": 162
        },
        "id": "eeVLIJ4Jxe3k",
        "outputId": "67fcd301-dc9a-4eba-ca0f-3b1e5d0a18de"
      },
      "execution_count": 55,
      "outputs": [
        {
          "output_type": "error",
          "ename": "TypeError",
          "evalue": "unsupported operand type(s) for +: 'int' and 'str'",
          "traceback": [
            "\u001b[0;31m---------------------------------------------------------------------------\u001b[0m",
            "\u001b[0;31mTypeError\u001b[0m                                 Traceback (most recent call last)",
            "\u001b[0;32m/tmp/ipython-input-2604238822.py\u001b[0m in \u001b[0;36m<cell line: 0>\u001b[0;34m()\u001b[0m\n\u001b[1;32m      1\u001b[0m \u001b[0mt1\u001b[0m \u001b[0;34m=\u001b[0m \u001b[0;34m(\u001b[0m\u001b[0;36m2\u001b[0m\u001b[0;34m,\u001b[0m\u001b[0;36m5\u001b[0m\u001b[0;34m,\u001b[0m\u001b[0;36m6\u001b[0m\u001b[0;34m,\u001b[0m\u001b[0;36m7\u001b[0m\u001b[0;34m,\u001b[0m\u001b[0;34m'vaibhav'\u001b[0m\u001b[0;34m)\u001b[0m\u001b[0;34m\u001b[0m\u001b[0;34m\u001b[0m\u001b[0m\n\u001b[0;32m----> 2\u001b[0;31m \u001b[0mprint\u001b[0m\u001b[0;34m(\u001b[0m\u001b[0msum\u001b[0m\u001b[0;34m(\u001b[0m\u001b[0mt1\u001b[0m\u001b[0;34m)\u001b[0m\u001b[0;34m)\u001b[0m \u001b[0;31m#error\u001b[0m\u001b[0;34m\u001b[0m\u001b[0;34m\u001b[0m\u001b[0m\n\u001b[0m",
            "\u001b[0;31mTypeError\u001b[0m: unsupported operand type(s) for +: 'int' and 'str'"
          ]
        }
      ]
    },
    {
      "cell_type": "code",
      "source": [
        "#immutablitiy of tuple\n",
        "t1 = (\"Math\", \"Physics\", \"Chemistry\", \"Biology\")\n",
        "t1[2] = 'vaibhav varshney'\n"
      ],
      "metadata": {
        "colab": {
          "base_uri": "https://localhost:8080/",
          "height": 180
        },
        "id": "4zZkgZRSxlaB",
        "outputId": "7f0162c4-7a19-4136-e1b8-1693c893a50d"
      },
      "execution_count": 56,
      "outputs": [
        {
          "output_type": "error",
          "ename": "TypeError",
          "evalue": "'tuple' object does not support item assignment",
          "traceback": [
            "\u001b[0;31m---------------------------------------------------------------------------\u001b[0m",
            "\u001b[0;31mTypeError\u001b[0m                                 Traceback (most recent call last)",
            "\u001b[0;32m/tmp/ipython-input-1343777622.py\u001b[0m in \u001b[0;36m<cell line: 0>\u001b[0;34m()\u001b[0m\n\u001b[1;32m      1\u001b[0m \u001b[0;31m#immutablitiy of tuple\u001b[0m\u001b[0;34m\u001b[0m\u001b[0;34m\u001b[0m\u001b[0m\n\u001b[1;32m      2\u001b[0m \u001b[0mt1\u001b[0m \u001b[0;34m=\u001b[0m \u001b[0;34m(\u001b[0m\u001b[0;34m\"Math\"\u001b[0m\u001b[0;34m,\u001b[0m \u001b[0;34m\"Physics\"\u001b[0m\u001b[0;34m,\u001b[0m \u001b[0;34m\"Chemistry\"\u001b[0m\u001b[0;34m,\u001b[0m \u001b[0;34m\"Biology\"\u001b[0m\u001b[0;34m)\u001b[0m\u001b[0;34m\u001b[0m\u001b[0;34m\u001b[0m\u001b[0m\n\u001b[0;32m----> 3\u001b[0;31m \u001b[0mt1\u001b[0m\u001b[0;34m[\u001b[0m\u001b[0;36m2\u001b[0m\u001b[0;34m]\u001b[0m \u001b[0;34m=\u001b[0m \u001b[0;34m'vaibhav varshney'\u001b[0m\u001b[0;34m\u001b[0m\u001b[0;34m\u001b[0m\u001b[0m\n\u001b[0m",
            "\u001b[0;31mTypeError\u001b[0m: 'tuple' object does not support item assignment"
          ]
        }
      ]
    },
    {
      "cell_type": "code",
      "source": [
        "#sort a tuple\n",
        "t = (\"Vaibhav\" ,\"Varshney\", \"Anoopshahr\", \"zzzz\")\n",
        "sortedTuple = sorted(t)\n",
        "print(sortedTuple)\n",
        "print(type(sortedTuple))\n",
        "t2 = tuple(sortedTuple) #typecasting\n",
        "print(type(t2))"
      ],
      "metadata": {
        "colab": {
          "base_uri": "https://localhost:8080/"
        },
        "id": "xFYUoygoyUF2",
        "outputId": "45cee240-03f5-4466-8679-5369db646a9f"
      },
      "execution_count": 61,
      "outputs": [
        {
          "output_type": "stream",
          "name": "stdout",
          "text": [
            "['Anoopshahr', 'Vaibhav', 'Varshney', 'zzzz']\n",
            "<class 'list'>\n",
            "<class 'tuple'>\n"
          ]
        }
      ]
    },
    {
      "cell_type": "code",
      "source": [
        "#output\n",
        "t = (1,2,4,3)\n",
        "print(t[4])\n"
      ],
      "metadata": {
        "colab": {
          "base_uri": "https://localhost:8080/",
          "height": 180
        },
        "id": "VoaQLkY2zLr5",
        "outputId": "b1e8e970-0b84-4129-9fdc-5451ca609da5"
      },
      "execution_count": 62,
      "outputs": [
        {
          "output_type": "error",
          "ename": "IndexError",
          "evalue": "tuple index out of range",
          "traceback": [
            "\u001b[0;31m---------------------------------------------------------------------------\u001b[0m",
            "\u001b[0;31mIndexError\u001b[0m                                Traceback (most recent call last)",
            "\u001b[0;32m/tmp/ipython-input-1514281412.py\u001b[0m in \u001b[0;36m<cell line: 0>\u001b[0;34m()\u001b[0m\n\u001b[1;32m      1\u001b[0m \u001b[0;31m#output\u001b[0m\u001b[0;34m\u001b[0m\u001b[0;34m\u001b[0m\u001b[0m\n\u001b[1;32m      2\u001b[0m \u001b[0mt\u001b[0m \u001b[0;34m=\u001b[0m \u001b[0;34m(\u001b[0m\u001b[0;36m1\u001b[0m\u001b[0;34m,\u001b[0m\u001b[0;36m2\u001b[0m\u001b[0;34m,\u001b[0m\u001b[0;36m4\u001b[0m\u001b[0;34m,\u001b[0m\u001b[0;36m3\u001b[0m\u001b[0;34m)\u001b[0m\u001b[0;34m\u001b[0m\u001b[0;34m\u001b[0m\u001b[0m\n\u001b[0;32m----> 3\u001b[0;31m \u001b[0mprint\u001b[0m\u001b[0;34m(\u001b[0m\u001b[0mt\u001b[0m\u001b[0;34m[\u001b[0m\u001b[0;36m4\u001b[0m\u001b[0;34m]\u001b[0m\u001b[0;34m)\u001b[0m\u001b[0;34m\u001b[0m\u001b[0;34m\u001b[0m\u001b[0m\n\u001b[0m",
            "\u001b[0;31mIndexError\u001b[0m: tuple index out of range"
          ]
        }
      ]
    },
    {
      "cell_type": "markdown",
      "source": [
        "Sets:\n",
        "-- no duplicate values\n",
        "-- use in to check value is present or not\n",
        "--define in {}"
      ],
      "metadata": {
        "id": "zfylHF9wzrqe"
      }
    },
    {
      "cell_type": "code",
      "source": [
        "list1  = [3,2,1,3,2,1,4,6,7,5,5,4,3,2,4,6,7,9]\n",
        "set1 = set(list1)\n",
        "print(type(set1))\n",
        "print(set1)\n"
      ],
      "metadata": {
        "colab": {
          "base_uri": "https://localhost:8080/"
        },
        "id": "tlif4M0Bz33Q",
        "outputId": "85c5b59d-0b4e-4294-f6b7-b8489e4bf56d"
      },
      "execution_count": 64,
      "outputs": [
        {
          "output_type": "stream",
          "name": "stdout",
          "text": [
            "<class 'set'>\n",
            "{1, 2, 3, 4, 5, 6, 7, 9}\n"
          ]
        }
      ]
    },
    {
      "cell_type": "code",
      "source": [
        "()"
      ],
      "metadata": {
        "id": "FbxkLtax5HiV"
      },
      "execution_count": null,
      "outputs": []
    }
  ]
}